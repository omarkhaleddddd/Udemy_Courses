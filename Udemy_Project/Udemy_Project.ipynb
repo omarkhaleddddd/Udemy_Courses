{
 "cells": [
  {
   "cell_type": "markdown",
   "id": "0fcbca8a",
   "metadata": {},
   "source": [
    "# UDEMY PROJECT"
   ]
  },
  {
   "cell_type": "code",
   "execution_count": 1,
   "id": "9a9a7f2b",
   "metadata": {},
   "outputs": [
    {
     "ename": "ModuleNotFoundError",
     "evalue": "No module named 'ydata_profiling'",
     "output_type": "error",
     "traceback": [
      "\u001b[1;31m---------------------------------------------------------------------------\u001b[0m",
      "\u001b[1;31mModuleNotFoundError\u001b[0m                       Traceback (most recent call last)",
      "Cell \u001b[1;32mIn[1], line 7\u001b[0m\n\u001b[0;32m      5\u001b[0m \u001b[38;5;28;01mimport\u001b[39;00m \u001b[38;5;21;01mplotly\u001b[39;00m\u001b[38;5;21;01m.\u001b[39;00m\u001b[38;5;21;01mexpress\u001b[39;00m \u001b[38;5;28;01mas\u001b[39;00m \u001b[38;5;21;01mpx\u001b[39;00m\n\u001b[0;32m      6\u001b[0m \u001b[38;5;28;01mimport\u001b[39;00m \u001b[38;5;21;01mplotly\u001b[39;00m\u001b[38;5;21;01m.\u001b[39;00m\u001b[38;5;21;01mio\u001b[39;00m \u001b[38;5;28;01mas\u001b[39;00m \u001b[38;5;21;01mpio\u001b[39;00m\n\u001b[1;32m----> 7\u001b[0m \u001b[38;5;28;01mfrom\u001b[39;00m \u001b[38;5;21;01mydata_profiling\u001b[39;00m \u001b[38;5;28;01mimport\u001b[39;00m ProfileReport\n",
      "\u001b[1;31mModuleNotFoundError\u001b[0m: No module named 'ydata_profiling'"
     ]
    }
   ],
   "source": [
    "import numpy as np\n",
    "import pandas as pd\n",
    "import matplotlib.pyplot as plt\n",
    "import seaborn as sns\n",
    "import plotly.express as px\n",
    "import plotly.io as pio\n",
    "from ydata_profiling import ProfileReport"
   ]
  },
  {
   "cell_type": "code",
   "execution_count": null,
   "id": "e36349ae",
   "metadata": {},
   "outputs": [],
   "source": [
    "df = pd.read_csv('udemy_courses-raw.csv')"
   ]
  },
  {
   "cell_type": "code",
   "execution_count": null,
   "id": "796f0127",
   "metadata": {},
   "outputs": [],
   "source": [
    "df.head(2)"
   ]
  },
  {
   "cell_type": "code",
   "execution_count": null,
   "id": "b400ea40",
   "metadata": {},
   "outputs": [],
   "source": [
    "df.sample(2)"
   ]
  },
  {
   "cell_type": "code",
   "execution_count": null,
   "id": "75f885aa",
   "metadata": {},
   "outputs": [],
   "source": [
    "df.info()"
   ]
  },
  {
   "cell_type": "code",
   "execution_count": null,
   "id": "5df16d52",
   "metadata": {},
   "outputs": [],
   "source": [
    "df.describe()"
   ]
  },
  {
   "cell_type": "markdown",
   "id": "70c04ab8",
   "metadata": {},
   "source": [
    "## Data Processing"
   ]
  },
  {
   "cell_type": "markdown",
   "id": "7f823ad0",
   "metadata": {},
   "source": [
    "Categorical_Data"
   ]
  },
  {
   "cell_type": "code",
   "execution_count": null,
   "id": "0e0f2969",
   "metadata": {},
   "outputs": [],
   "source": [
    "df['subject'].value_counts()"
   ]
  },
  {
   "cell_type": "code",
   "execution_count": null,
   "id": "8ddd67fa",
   "metadata": {},
   "outputs": [],
   "source": [
    "df['level'].value_counts()"
   ]
  },
  {
   "cell_type": "code",
   "execution_count": null,
   "id": "9481fa89",
   "metadata": {},
   "outputs": [],
   "source": [
    "df['is_paid'].value_counts()"
   ]
  },
  {
   "cell_type": "markdown",
   "id": "50384faf",
   "metadata": {},
   "source": [
    "Parsing timestamp"
   ]
  },
  {
   "cell_type": "code",
   "execution_count": null,
   "id": "91f2c163",
   "metadata": {},
   "outputs": [],
   "source": [
    "df['published_timestamp']"
   ]
  },
  {
   "cell_type": "markdown",
   "id": "b2334b19",
   "metadata": {},
   "source": [
    "Method helps to convert string Date time into Python Date time object."
   ]
  },
  {
   "cell_type": "code",
   "execution_count": null,
   "id": "10575967",
   "metadata": {},
   "outputs": [],
   "source": [
    "pd.to_datetime(df['published_timestamp'])"
   ]
  },
  {
   "cell_type": "code",
   "execution_count": null,
   "id": "d5682542",
   "metadata": {},
   "outputs": [],
   "source": [
    "df.dtypes"
   ]
  },
  {
   "cell_type": "markdown",
   "id": "08be3dd7",
   "metadata": {},
   "source": [
    "to save the new parsed value"
   ]
  },
  {
   "cell_type": "code",
   "execution_count": null,
   "id": "8c68108c",
   "metadata": {},
   "outputs": [],
   "source": [
    "df['published_timestamp'] = pd.to_datetime(df['published_timestamp'])"
   ]
  },
  {
   "cell_type": "code",
   "execution_count": null,
   "id": "ed282539",
   "metadata": {},
   "outputs": [],
   "source": [
    "df.dtypes"
   ]
  },
  {
   "cell_type": "markdown",
   "id": "46ecc465",
   "metadata": {},
   "source": [
    "Creating 3 new time columns for future use.."
   ]
  },
  {
   "cell_type": "code",
   "execution_count": null,
   "id": "28b48c02",
   "metadata": {},
   "outputs": [],
   "source": [
    "df['Year'] = df['published_timestamp'].dt.year"
   ]
  },
  {
   "cell_type": "code",
   "execution_count": null,
   "id": "fa8724f7",
   "metadata": {},
   "outputs": [],
   "source": [
    "df['Month'] = df['published_timestamp'].dt.month_name()"
   ]
  },
  {
   "cell_type": "code",
   "execution_count": null,
   "id": "2d5c0a3a",
   "metadata": {},
   "outputs": [],
   "source": [
    "df['Day'] = df['published_timestamp'].dt.day_name()"
   ]
  },
  {
   "cell_type": "code",
   "execution_count": null,
   "id": "dda7e7cd",
   "metadata": {},
   "outputs": [],
   "source": [
    "df['Quarter'] = df['published_timestamp'].dt.quarter"
   ]
  },
  {
   "cell_type": "markdown",
   "id": "cf6d278a",
   "metadata": {},
   "source": [
    "To view the added columns..."
   ]
  },
  {
   "cell_type": "code",
   "execution_count": null,
   "id": "66217a5f",
   "metadata": {},
   "outputs": [],
   "source": [
    "df.sample()"
   ]
  },
  {
   "cell_type": "markdown",
   "id": "a1ab48a2",
   "metadata": {},
   "source": [
    "We will be setting the Index with respect to timestamp for better DATA_VISUALIZATION\n"
   ]
  },
  {
   "cell_type": "code",
   "execution_count": null,
   "id": "e5ed92a8",
   "metadata": {},
   "outputs": [],
   "source": [
    "df.set_index(df['published_timestamp'], inplace = True)"
   ]
  },
  {
   "cell_type": "code",
   "execution_count": null,
   "id": "85bb2267",
   "metadata": {},
   "outputs": [],
   "source": [
    "df.sample()"
   ]
  },
  {
   "cell_type": "markdown",
   "id": "bf9fb8b1",
   "metadata": {},
   "source": [
    "We will add a new column 'Profit'"
   ]
  },
  {
   "cell_type": "code",
   "execution_count": null,
   "id": "5c2de113",
   "metadata": {},
   "outputs": [],
   "source": [
    "df['Profit'] = df['price'] * df['num_subscribers']"
   ]
  },
  {
   "cell_type": "code",
   "execution_count": null,
   "id": "f8dceb5f",
   "metadata": {},
   "outputs": [],
   "source": [
    "df.sample()"
   ]
  },
  {
   "cell_type": "markdown",
   "id": "36bce3c8",
   "metadata": {},
   "source": [
    "Checking for the Duplicated values in the UNIQUE Course ID "
   ]
  },
  {
   "cell_type": "code",
   "execution_count": null,
   "id": "668bd453",
   "metadata": {},
   "outputs": [],
   "source": [
    "df['course_id'].nunique()"
   ]
  },
  {
   "cell_type": "markdown",
   "id": "a809b0b9",
   "metadata": {},
   "source": [
    "By comparing 3672 and the total values found in the data_set (3678) we will find 6 Duplicated Course_id,\n",
    "So the next step is detecting the duplicated values"
   ]
  },
  {
   "cell_type": "code",
   "execution_count": null,
   "id": "52d7c130",
   "metadata": {},
   "outputs": [],
   "source": [
    "df[df.duplicated()]"
   ]
  },
  {
   "cell_type": "markdown",
   "id": "7006feee",
   "metadata": {},
   "source": [
    "To drop the duplicated values "
   ]
  },
  {
   "cell_type": "code",
   "execution_count": null,
   "id": "c4412cd0",
   "metadata": {},
   "outputs": [],
   "source": [
    "df.drop_duplicates(inplace=True)"
   ]
  },
  {
   "cell_type": "code",
   "execution_count": null,
   "id": "d9b759de",
   "metadata": {},
   "outputs": [],
   "source": [
    "df.duplicated().sum()"
   ]
  },
  {
   "cell_type": "markdown",
   "id": "2770885d",
   "metadata": {},
   "source": [
    "Categorization for numerical data, Since the content 'Duration' is in numeric values we can categorize it for future benfits in the project Dashboard."
   ]
  },
  {
   "cell_type": "code",
   "execution_count": null,
   "id": "7245a059",
   "metadata": {},
   "outputs": [],
   "source": [
    "df['content_duration'].value_counts()"
   ]
  },
  {
   "cell_type": "code",
   "execution_count": null,
   "id": "7882e7a2",
   "metadata": {},
   "outputs": [],
   "source": [
    "df['Duration'] = pd.qcut(df['content_duration'], 6, labels = ['0:1', '1:3','3:7','7:12', '12:20', '20+'])"
   ]
  },
  {
   "cell_type": "code",
   "execution_count": null,
   "id": "c39ca770",
   "metadata": {},
   "outputs": [],
   "source": [
    "df.sample()"
   ]
  },
  {
   "cell_type": "code",
   "execution_count": null,
   "id": "201ec616",
   "metadata": {},
   "outputs": [],
   "source": [
    "df.rename(columns = {'Duration':'Duration_category'}, inplace = True)"
   ]
  },
  {
   "cell_type": "code",
   "execution_count": null,
   "id": "3e5e36a3",
   "metadata": {},
   "outputs": [],
   "source": [
    "df.sample()"
   ]
  },
  {
   "cell_type": "code",
   "execution_count": null,
   "id": "0fbbd98d",
   "metadata": {},
   "outputs": [],
   "source": [
    "df['Duration_category'].value_counts()"
   ]
  },
  {
   "cell_type": "markdown",
   "id": "fc752e05",
   "metadata": {},
   "source": [
    "Categorization for numerical data, Since the 'price' is in numeric values we can categorize it for future benfits in the project Dashboard."
   ]
  },
  {
   "cell_type": "code",
   "execution_count": null,
   "id": "39cefee1",
   "metadata": {},
   "outputs": [],
   "source": [
    "df['price'].value_counts()"
   ]
  },
  {
   "cell_type": "code",
   "execution_count": null,
   "id": "dcc6f335",
   "metadata": {},
   "outputs": [],
   "source": [
    "price_dict = {\n",
    "    0: \"Free\",\n",
    "    range (20, 55, 5):'20:50',\n",
    "    range (55, 105, 5): '55:100',\n",
    "    range (105, 155, 5): '105:150',\n",
    "    range (155, 205, 5): '155:200'\n",
    "}"
   ]
  },
  {
   "cell_type": "code",
   "execution_count": null,
   "id": "dc4f56d5",
   "metadata": {},
   "outputs": [],
   "source": [
    "df['Price_Category'] = df['price'].replace(price_dict)"
   ]
  },
  {
   "cell_type": "code",
   "execution_count": null,
   "id": "c2e95ce5",
   "metadata": {},
   "outputs": [],
   "source": [
    "df.sample()"
   ]
  },
  {
   "cell_type": "code",
   "execution_count": null,
   "id": "3e070e18",
   "metadata": {},
   "outputs": [],
   "source": []
  },
  {
   "cell_type": "markdown",
   "id": "c3837751",
   "metadata": {},
   "source": [
    "## Eploratory Data Analysis (EDA)"
   ]
  },
  {
   "cell_type": "markdown",
   "id": "10d312aa",
   "metadata": {},
   "source": [
    "- Univariate Analysis\n",
    "- BI-Variate Analysis\n",
    "- Multi-Variate Analysis"
   ]
  },
  {
   "cell_type": "markdown",
   "id": "66a0f469",
   "metadata": {},
   "source": [
    "## EDA for feature \"Subject\""
   ]
  },
  {
   "cell_type": "markdown",
   "id": "1b28e97d",
   "metadata": {},
   "source": [
    "### 1) Uni-variate Analysis"
   ]
  },
  {
   "cell_type": "code",
   "execution_count": null,
   "id": "aba66d3d",
   "metadata": {},
   "outputs": [],
   "source": [
    "df['subject']"
   ]
  },
  {
   "cell_type": "markdown",
   "id": "1a8e3e45",
   "metadata": {},
   "source": [
    "#### A. Feature overview"
   ]
  },
  {
   "cell_type": "code",
   "execution_count": null,
   "id": "47d8a235",
   "metadata": {},
   "outputs": [],
   "source": [
    "df['subject'].describe()"
   ]
  },
  {
   "cell_type": "code",
   "execution_count": null,
   "id": "94369d93",
   "metadata": {},
   "outputs": [],
   "source": [
    "df['subject'].count()"
   ]
  },
  {
   "cell_type": "code",
   "execution_count": null,
   "id": "a325d54d",
   "metadata": {},
   "outputs": [],
   "source": [
    "df['subject'].nunique()"
   ]
  },
  {
   "cell_type": "markdown",
   "id": "6ce5f656",
   "metadata": {},
   "source": [
    "#### B. How many courses in each subject? "
   ]
  },
  {
   "cell_type": "code",
   "execution_count": null,
   "id": "90f71a02",
   "metadata": {},
   "outputs": [],
   "source": [
    "df['subject'].value_counts()"
   ]
  },
  {
   "cell_type": "code",
   "execution_count": null,
   "id": "f9963c03",
   "metadata": {},
   "outputs": [],
   "source": [
    "df['subject'].value_counts().plot(kind='bar')"
   ]
  },
  {
   "cell_type": "code",
   "execution_count": null,
   "id": "388e032c",
   "metadata": {},
   "outputs": [],
   "source": [
    "df['subject'].value_counts().plot(kind='pie')"
   ]
  },
  {
   "cell_type": "markdown",
   "id": "c7627dfa",
   "metadata": {},
   "source": [
    "### 2) Bi-Variate Analysis"
   ]
  },
  {
   "cell_type": "markdown",
   "id": "06c5c880",
   "metadata": {},
   "source": [
    "#### A. How Many subscribers in each subject?"
   ]
  },
  {
   "cell_type": "code",
   "execution_count": null,
   "id": "6ad2ddb3",
   "metadata": {},
   "outputs": [],
   "source": [
    "df.groupby('subject').sum()['num_subscribers']"
   ]
  },
  {
   "cell_type": "code",
   "execution_count": null,
   "id": "a7c36e65",
   "metadata": {},
   "outputs": [],
   "source": [
    "pip install nbformat==5.1.2"
   ]
  },
  {
   "cell_type": "markdown",
   "id": "d5584fc4",
   "metadata": {},
   "source": [
    "##### VISUALIZATION Using Plotly"
   ]
  },
  {
   "cell_type": "code",
   "execution_count": null,
   "id": "97055917",
   "metadata": {},
   "outputs": [],
   "source": [
    "fig = px.bar(data_frame = df,\n",
    "       x = df.groupby('subject').sum()['num_subscribers'].index,\n",
    "       y = df.groupby('subject').sum()['num_subscribers'].values)\n",
    "fig.update_xaxes(title = 'Subject')\n",
    "fig.update_yaxes(title = '# Subscribers')\n",
    "fig.show()"
   ]
  },
  {
   "cell_type": "markdown",
   "id": "a9bf9029",
   "metadata": {},
   "source": [
    "#### B. Profit per each subject?"
   ]
  },
  {
   "cell_type": "code",
   "execution_count": null,
   "id": "7045fd55",
   "metadata": {},
   "outputs": [],
   "source": [
    "dict(df.groupby('subject').sum()['Profit'])\n",
    "                                "
   ]
  },
  {
   "cell_type": "markdown",
   "id": "40728c98",
   "metadata": {},
   "source": [
    "##### VISUALIZATION using Seaborn."
   ]
  },
  {
   "cell_type": "code",
   "execution_count": null,
   "id": "e7e0dbc7",
   "metadata": {},
   "outputs": [],
   "source": [
    "plt.figure(figsize =(15,8))\n",
    "plt.xticks(rotation = 45)\n",
    "sns.barplot(data = df,\n",
    "           x = df.groupby('subject').sum()['Profit'].index,\n",
    "           y = df.groupby('subject').sum()['Profit'].values,\n",
    "           palette = 'plasma')\n"
   ]
  },
  {
   "cell_type": "markdown",
   "id": "0be3134f",
   "metadata": {},
   "source": [
    "#### B. How many paid an non-paid in each subject? "
   ]
  },
  {
   "cell_type": "code",
   "execution_count": null,
   "id": "96b3df69",
   "metadata": {},
   "outputs": [],
   "source": [
    "df.groupby('subject').sum()['is_paid']"
   ]
  },
  {
   "cell_type": "code",
   "execution_count": null,
   "id": "90aa2805",
   "metadata": {},
   "outputs": [],
   "source": [
    "#unpaid courses\n",
    "df[df['is_paid'] == False]['subject'].value_counts().plot(kind = 'bar')"
   ]
  },
  {
   "cell_type": "code",
   "execution_count": null,
   "id": "8ed85bb1",
   "metadata": {},
   "outputs": [],
   "source": [
    "#Paid courses\n",
    "df[df['is_paid'] == True]['subject'].value_counts().plot(kind = 'bar')"
   ]
  },
  {
   "cell_type": "markdown",
   "id": "81b75671",
   "metadata": {},
   "source": [
    "### 3) Multi-variate Analysis (subject)"
   ]
  },
  {
   "cell_type": "markdown",
   "id": "26343835",
   "metadata": {},
   "source": [
    "#### A. How many courses in each subject according to is_paid?"
   ]
  },
  {
   "cell_type": "markdown",
   "id": "5bed2ba4",
   "metadata": {},
   "source": [
    "#### using Plotly"
   ]
  },
  {
   "cell_type": "code",
   "execution_count": null,
   "id": "84b26052",
   "metadata": {},
   "outputs": [],
   "source": [
    "fig = px.bar(data_frame = df,\n",
    "       x = df['subject'],\n",
    "     color = df['is_paid'])\n",
    "fig.update_xaxes(title = 'Subject')\n",
    "fig.update_yaxes(title = '# Courses')\n",
    "fig.show()"
   ]
  },
  {
   "cell_type": "markdown",
   "id": "9c7bec92",
   "metadata": {},
   "source": [
    "#### B. How many courses in each subject according to Price_category?"
   ]
  },
  {
   "cell_type": "markdown",
   "id": "f4377971",
   "metadata": {},
   "source": [
    "#### using Seaborn"
   ]
  },
  {
   "cell_type": "code",
   "execution_count": null,
   "id": "ed79e606",
   "metadata": {},
   "outputs": [],
   "source": [
    "plt.figure(figsize = (18,5))\n",
    "plt.xticks(rotation = 45)\n",
    "sns.countplot(data = df, x = df['subject'], hue = df['Price_Category'])"
   ]
  },
  {
   "cell_type": "markdown",
   "id": "c957c5c7",
   "metadata": {},
   "source": [
    "#### C. How many courses in each subject according to Price_category?"
   ]
  },
  {
   "cell_type": "markdown",
   "id": "7546740d",
   "metadata": {},
   "source": [
    "#### using Seaborn"
   ]
  },
  {
   "cell_type": "code",
   "execution_count": null,
   "id": "2674e4ac",
   "metadata": {},
   "outputs": [],
   "source": [
    "plt.figure(figsize = (18,5))\n",
    "plt.xticks(rotation = 45)\n",
    "sns.countplot(data = df, x = df['subject'], hue = df['Duration_category'])"
   ]
  },
  {
   "cell_type": "markdown",
   "id": "04d591ff",
   "metadata": {},
   "source": [
    "#### D. How many courses in each subject according to level?"
   ]
  },
  {
   "cell_type": "markdown",
   "id": "0c289f86",
   "metadata": {},
   "source": [
    "#### using Seaborn"
   ]
  },
  {
   "cell_type": "code",
   "execution_count": null,
   "id": "a184141b",
   "metadata": {},
   "outputs": [],
   "source": [
    "plt.figure(figsize = (18,5))\n",
    "plt.xticks(rotation = 45)\n",
    "sns.countplot(data = df, x = df['subject'], hue = df['level'])"
   ]
  },
  {
   "cell_type": "markdown",
   "id": "f06a5673",
   "metadata": {},
   "source": [
    "#### E. In each year what is the total profit made by each subject?"
   ]
  },
  {
   "cell_type": "code",
   "execution_count": null,
   "id": "a391aaee",
   "metadata": {},
   "outputs": [],
   "source": [
    "df.groupby(['Year','subject'],as_index=False)['Profit'].sum()"
   ]
  },
  {
   "cell_type": "code",
   "execution_count": null,
   "id": "422b8d1c",
   "metadata": {},
   "outputs": [],
   "source": [
    "plt.figure(figsize=(15,8))\n",
    "sns.barplot(data=df,x='subject',y='Profit',hue='Year')"
   ]
  },
  {
   "cell_type": "code",
   "execution_count": null,
   "id": "d448bdff",
   "metadata": {},
   "outputs": [],
   "source": [
    "px.pie(data_frame=df, names='subject', values='Profit', color='Year')"
   ]
  },
  {
   "cell_type": "markdown",
   "id": "6a49fda7",
   "metadata": {},
   "source": [
    "##### F. Regarding price category, what is the total profit made by each subject?"
   ]
  },
  {
   "cell_type": "code",
   "execution_count": null,
   "id": "98d785de",
   "metadata": {},
   "outputs": [],
   "source": [
    "plt.figure(figsize=(15,8))\n",
    "sns.barplot(data=df,x='subject',y='Profit',hue='Price_Category')"
   ]
  },
  {
   "cell_type": "markdown",
   "id": "5eea59b0",
   "metadata": {},
   "source": [
    "##### G. Regarding duration category, what is the total profit made by each subject?"
   ]
  },
  {
   "cell_type": "code",
   "execution_count": null,
   "id": "afb9aa70",
   "metadata": {},
   "outputs": [],
   "source": [
    "plt.figure(figsize=(15,8))\n",
    "sns.barplot(data=df,x='subject',y='Profit',hue='Duration_category')"
   ]
  },
  {
   "cell_type": "markdown",
   "id": "559ac4c1",
   "metadata": {},
   "source": [
    "##### H. Regarding level, what is the total profit made by each subject?"
   ]
  },
  {
   "cell_type": "code",
   "execution_count": null,
   "id": "8f3f4f35",
   "metadata": {},
   "outputs": [],
   "source": [
    "plt.figure(figsize=(15,8))\n",
    "sns.barplot(data=df,x='subject',y='Profit',hue='level')"
   ]
  },
  {
   "cell_type": "markdown",
   "id": "b1488ed1",
   "metadata": {},
   "source": [
    "##### I. Regarding each year, how many subscribers in each subject?"
   ]
  },
  {
   "cell_type": "code",
   "execution_count": null,
   "id": "312af2a6",
   "metadata": {},
   "outputs": [],
   "source": [
    "plt.figure(figsize=(15,8))\n",
    "sns.barplot(data=df,x='subject',y='num_subscribers',hue='Year')"
   ]
  },
  {
   "cell_type": "markdown",
   "id": "f9beb8c5",
   "metadata": {},
   "source": [
    "##### J. Regarding price category, how many subscribers in each subject?"
   ]
  },
  {
   "cell_type": "code",
   "execution_count": null,
   "id": "d31ee683",
   "metadata": {},
   "outputs": [],
   "source": [
    "plt.figure(figsize=(15,8))\n",
    "sns.barplot(data=df,x='subject',y='num_subscribers',hue='Price_Category')"
   ]
  },
  {
   "cell_type": "markdown",
   "id": "a00f3705",
   "metadata": {},
   "source": [
    "##### K. Regarding duration category, how many subscribers in each subject?"
   ]
  },
  {
   "cell_type": "code",
   "execution_count": null,
   "id": "70e65a6c",
   "metadata": {},
   "outputs": [],
   "source": [
    "plt.figure(figsize=(15,8))\n",
    "sns.barplot(data=df,x='subject',y='num_subscribers',hue='Duration_category')"
   ]
  },
  {
   "cell_type": "markdown",
   "id": "1d621106",
   "metadata": {},
   "source": [
    "##### L. Regarding level, how many subscribers in each subject?"
   ]
  },
  {
   "cell_type": "code",
   "execution_count": null,
   "id": "f6970a00",
   "metadata": {},
   "outputs": [],
   "source": [
    "\n",
    "plt.figure(figsize=(15,8))\n",
    "sns.barplot(data=df,x='subject',y='num_subscribers',hue='level')"
   ]
  },
  {
   "cell_type": "code",
   "execution_count": null,
   "id": "2c3456d6",
   "metadata": {},
   "outputs": [],
   "source": [
    "df['Profit'].describe()"
   ]
  },
  {
   "cell_type": "markdown",
   "id": "110e1f10",
   "metadata": {},
   "source": [
    "## Time Series Analysis"
   ]
  },
  {
   "cell_type": "markdown",
   "id": "44d3bac8",
   "metadata": {},
   "source": [
    "### published_timestamp"
   ]
  },
  {
   "cell_type": "code",
   "execution_count": null,
   "id": "aa5d87d1",
   "metadata": {},
   "outputs": [],
   "source": [
    "df.sample(2)"
   ]
  },
  {
   "cell_type": "code",
   "execution_count": null,
   "id": "9b2725c4",
   "metadata": {},
   "outputs": [],
   "source": [
    "df.index"
   ]
  },
  {
   "cell_type": "code",
   "execution_count": null,
   "id": "834e3ef3",
   "metadata": {
    "scrolled": true
   },
   "outputs": [],
   "source": [
    "df.loc['2017'].head(2)"
   ]
  },
  {
   "cell_type": "code",
   "execution_count": null,
   "id": "0289dc97",
   "metadata": {},
   "outputs": [],
   "source": [
    "df.index.year"
   ]
  },
  {
   "cell_type": "code",
   "execution_count": null,
   "id": "273d64a4",
   "metadata": {},
   "outputs": [],
   "source": [
    "df.loc['2017-1-24' : '2017-1-25']"
   ]
  },
  {
   "cell_type": "markdown",
   "id": "1319ea95",
   "metadata": {},
   "source": [
    "### Profit"
   ]
  },
  {
   "cell_type": "markdown",
   "id": "b37bf952",
   "metadata": {},
   "source": [
    "##### What is the total profit in each year?"
   ]
  },
  {
   "cell_type": "code",
   "execution_count": null,
   "id": "25675ed9",
   "metadata": {},
   "outputs": [],
   "source": [
    "df.resample(\"Y\").sum()['Profit']"
   ]
  },
  {
   "cell_type": "code",
   "execution_count": null,
   "id": "4cf86c2a",
   "metadata": {},
   "outputs": [],
   "source": [
    "plt.figure(figsize=(15,8))\n",
    "plt.xticks(rotation=45)\n",
    "sns.barplot(x=df.resample(\"Y\").sum()['Profit'].index.year,\n",
    "           y=df.resample(\"Y\").sum()['Profit'].values)"
   ]
  },
  {
   "cell_type": "code",
   "execution_count": null,
   "id": "7d0e4085",
   "metadata": {},
   "outputs": [],
   "source": [
    "df.index.month_name()"
   ]
  },
  {
   "cell_type": "code",
   "execution_count": null,
   "id": "67712ebe",
   "metadata": {},
   "outputs": [],
   "source": [
    "df.index.year"
   ]
  },
  {
   "cell_type": "code",
   "execution_count": null,
   "id": "22338c84",
   "metadata": {},
   "outputs": [],
   "source": [
    "plt.figure(figsize=(15,8))\n",
    "plt.xticks(rotation=45)\n",
    "sns.lineplot(x = df.loc['2013'].resample(\"MS\").sum()['Profit'].index.month_name(),\n",
    "            y = df.loc['2013'].resample(\"MS\").sum()['Profit'].values)"
   ]
  },
  {
   "cell_type": "code",
   "execution_count": null,
   "id": "573e24bf",
   "metadata": {},
   "outputs": [],
   "source": [
    "df.to_csv('Udemy_Courses_Cleaned.csv')"
   ]
  },
  {
   "cell_type": "code",
   "execution_count": null,
   "id": "83af846e",
   "metadata": {},
   "outputs": [],
   "source": []
  },
  {
   "cell_type": "code",
   "execution_count": null,
   "id": "5f191bc8",
   "metadata": {},
   "outputs": [],
   "source": []
  },
  {
   "cell_type": "code",
   "execution_count": null,
   "id": "6e8c67c5",
   "metadata": {},
   "outputs": [],
   "source": []
  },
  {
   "cell_type": "code",
   "execution_count": null,
   "id": "543c2dae",
   "metadata": {},
   "outputs": [],
   "source": []
  },
  {
   "cell_type": "code",
   "execution_count": null,
   "id": "47e39685",
   "metadata": {},
   "outputs": [],
   "source": []
  }
 ],
 "metadata": {
  "kernelspec": {
   "display_name": "Python 3 (ipykernel)",
   "language": "python",
   "name": "python3"
  },
  "language_info": {
   "codemirror_mode": {
    "name": "ipython",
    "version": 3
   },
   "file_extension": ".py",
   "mimetype": "text/x-python",
   "name": "python",
   "nbconvert_exporter": "python",
   "pygments_lexer": "ipython3",
   "version": "3.11.4"
  }
 },
 "nbformat": 4,
 "nbformat_minor": 5
}
